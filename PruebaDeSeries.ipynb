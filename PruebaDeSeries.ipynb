{
  "nbformat": 4,
  "nbformat_minor": 0,
  "metadata": {
    "colab": {
      "provenance": []
    },
    "kernelspec": {
      "name": "ir",
      "display_name": "R"
    },
    "language_info": {
      "name": "R"
    }
  },
  "cells": [
    {
      "cell_type": "code",
      "execution_count": 2,
      "metadata": {
        "id": "USNJRAycbu-U"
      },
      "outputs": [],
      "source": [
        "# Definimos una función para calcular la prueba de rachas\n",
        "PruebaDeRachas <- function(serie) {\n",
        "\n",
        "  # Paso 1: Clasificación de los valores de la serie como 'arriba' o 'abajo'\n",
        "\n",
        "  # Calculamos la mediana de la serie\n",
        "  medianaSerie <- median(serie)\n",
        "\n",
        "  # Clasificamos los números como 'arriba' (A) o 'abajo' (B)\n",
        "  clasificacion <- ifelse(serie > medianaSerie, \"A\", \"B\")\n",
        "\n",
        "  # Paso 2: Contamos las rachas\n",
        "  # Las rachas son los cambios consecutivos en la clasificación\n",
        "  rachas <- 1\n",
        "  for (i in 2:length(clasificacion)) {\n",
        "    if (clasificacion[i] != clasificacion[i - 1]) {\n",
        "      rachas <- rachas + 1\n",
        "    }\n",
        "  }\n",
        "\n",
        "  # Paso 3: Calculamos la media y la varianza esperada para el número de rachas\n",
        "  n1 <- sum(clasificacion == \"A\")  # Número de elementos 'A'\n",
        "  n2 <- sum(clasificacion == \"B\")  # Número de elementos 'B'\n",
        "\n",
        "  # Media esperada de rachas\n",
        "  mediaEsperada <- (2 * n1 * n2) / (n1 + n2) + 1\n",
        "\n",
        "  # Varianza de las rachas\n",
        "  varianzaEsperada <- (2 * n1 * n2 * (2 * n1 * n2 - n1 - n2)) /\n",
        "                      ((n1 + n2)^2 * (n1 + n2 - 1))\n",
        "\n",
        "  # Paso 4: Calculamos el estadístico Z para la prueba\n",
        "  desviacionEstandar <- sqrt(varianzaEsperada)\n",
        "  z <- (rachas - mediaEsperada) / desviacionEstandar\n",
        "\n",
        "  # Paso 5: Determinamos si rechazamos la hipótesis de aleatoriedad\n",
        "  # Usamos un valor crítico de Z (por ejemplo, 1.96 para un nivel de confianza del 95%)\n",
        "  valorCritico <- 1.96\n",
        "  rechazarHipotesis <- abs(z) > valorCritico\n",
        "\n",
        "  # Paso 6: Resultado\n",
        "  resultado <- list(\n",
        "    clasificacion = clasificacion,\n",
        "    rachas = rachas,\n",
        "    mediaEsperada = mediaEsperada,\n",
        "    varianzaEsperada = varianzaEsperada,\n",
        "    estadisticoZ = z,\n",
        "    rechazarHipotesis = rechazarHipotesis\n",
        "  )\n",
        "\n",
        "  # Devolvemos el resultado\n",
        "  return(resultado)\n",
        "}"
      ]
    },
    {
      "cell_type": "code",
      "source": [
        "# Interfaz de consola\n",
        "CatBienvenida <- function() {\n",
        "  cat(\"\\n==============================\\n\")\n",
        "  cat(\"  Prueba de Rachas Interactiva\\n\")\n",
        "  cat(\"==============================\\n\")\n",
        "  cat(\"Introduce tu serie de números separados por comas (ej. 0.12, 0.45, 0.78):\\n\")\n",
        "}"
      ],
      "metadata": {
        "id": "rXcanoRMcDWG"
      },
      "execution_count": 3,
      "outputs": []
    },
    {
      "cell_type": "code",
      "source": [
        "LeerSerie <- function() {\n",
        "  # Leemos la entrada del usuario\n",
        "  serieTexto <- readline(prompt = \"Ingresa los números: \")\n",
        "  # Convertimos la cadena en una lista de números\n",
        "  serieNumeros <- as.numeric(strsplit(serieTexto, \",\")[[1]])\n",
        "\n",
        "  # Verificamos que la entrada tenga números válidos\n",
        "  if (any(is.na(serieNumeros))) {\n",
        "    cat(\"\\nError: Debes ingresar solo números válidos separados por comas.\\n\")\n",
        "    return(NULL)\n",
        "  }\n",
        "  return(serieNumeros)\n",
        "}"
      ],
      "metadata": {
        "id": "2yGMk9DqcFcz"
      },
      "execution_count": 4,
      "outputs": []
    },
    {
      "cell_type": "code",
      "source": [
        "MostrarResultado <- function(resultado) {\n",
        "  cat(\"\\n==============================\\n\")\n",
        "  cat(\"Resultados de la Prueba de Rachas:\\n\")\n",
        "  cat(\"==============================\\n\")\n",
        "  cat(\"Clasificación de la serie (A = arriba, B = abajo):\\n\")\n",
        "  print(resultado$clasificacion)\n",
        "\n",
        "  cat(\"\\nNúmero total de rachas:\\n\")\n",
        "  print(resultado$rachas)\n",
        "\n",
        "  cat(\"\\nMedia esperada de rachas:\\n\")\n",
        "  print(resultado$mediaEsperada)\n",
        "\n",
        "  cat(\"\\nVarianza esperada de las rachas:\\n\")\n",
        "  print(resultado$varianzaEsperada)\n",
        "\n",
        "  cat(\"\\nEstadístico Z de la prueba:\\n\")\n",
        "  print(resultado$estadisticoZ)\n",
        "\n",
        "  cat(\"\\n¿Se rechaza la hipótesis de aleatoriedad?\\n\")\n",
        "  if (resultado$rechazarHipotesis) {\n",
        "    cat(\"Sí, se rechaza la hipótesis (la secuencia no es aleatoria).\\n\")\n",
        "  } else {\n",
        "    cat(\"No, no se rechaza la hipótesis (la secuencia es aleatoria).\\n\")\n",
        "  }\n",
        "}"
      ],
      "metadata": {
        "id": "IyT3nFqmcHSj"
      },
      "execution_count": 5,
      "outputs": []
    },
    {
      "cell_type": "code",
      "source": [
        "# Función principal que coordina todo el flujo\n",
        "PruebaDeRachasInteractiva <- function() {\n",
        "  CatBienvenida()\n",
        "\n",
        "  # Leer la serie del usuario\n",
        "  serie <- LeerSerie()\n",
        "\n",
        "  # Si la entrada es válida, realizamos la prueba\n",
        "  if (!is.null(serie)) {\n",
        "    resultado <- PruebaDeRachas(serie)\n",
        "\n",
        "    # Mostrar los resultados\n",
        "    MostrarResultado(resultado)\n",
        "  }\n",
        "}"
      ],
      "metadata": {
        "id": "eclkKXxScJJJ"
      },
      "execution_count": 6,
      "outputs": []
    },
    {
      "cell_type": "code",
      "source": [
        "PruebaDeRachasInteractiva()"
      ],
      "metadata": {
        "colab": {
          "base_uri": "https://localhost:8080/"
        },
        "id": "3dNTaMo8cLHO",
        "outputId": "42bbeaa2-5843-4fdf-e1d3-aa6f93a8ca10"
      },
      "execution_count": 10,
      "outputs": [
        {
          "output_type": "stream",
          "name": "stdout",
          "text": [
            "Ingresa los números: 1, 0, 1, 0, 1, 0, 1, 0\n",
            "\n",
            "==============================\n",
            "  Prueba de Rachas Interactiva\n",
            "==============================\n",
            "Introduce tu serie de números separados por comas (ej. 0.12, 0.45, 0.78):\n",
            "\n",
            "==============================\n",
            "Resultados de la Prueba de Rachas:\n",
            "==============================\n",
            "Clasificación de la serie (A = arriba, B = abajo):\n",
            "[1] \"A\" \"B\" \"A\" \"B\" \"A\" \"B\" \"A\" \"B\"\n",
            "\n",
            "Número total de rachas:\n",
            "[1] 8\n",
            "\n",
            "Media esperada de rachas:\n",
            "[1] 5\n",
            "\n",
            "Varianza esperada de las rachas:\n",
            "[1] 1.714286\n",
            "\n",
            "Estadístico Z de la prueba:\n",
            "[1] 2.291288\n",
            "\n",
            "¿Se rechaza la hipótesis de aleatoriedad?\n",
            "Sí, se rechaza la hipótesis (la secuencia no es aleatoria).\n"
          ]
        }
      ]
    }
  ]
}
