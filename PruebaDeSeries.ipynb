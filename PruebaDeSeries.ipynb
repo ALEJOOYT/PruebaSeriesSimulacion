
{
 "cells": [
  {
   "cell_type": "markdown",
   "metadata": {},
   "source": [
    "# Prueba de Rachas en Secuencias
",
    "
",
    "Este proyecto permite realizar una prueba estadística sobre una serie de números para verificar su aleatoriedad utilizando la prueba de rachas. A continuación se presenta el código en R para realizar la prueba de rachas sobre una secuencia ingresada por el usuario."
   ]
  },
  {
   "cell_type": "code",
   "execution_count": 1,
   "metadata": {},
   "outputs": [],
   "source": [
    "# Definimos una función para calcular la prueba de rachas
",
    "PruebaDeRachas <- function(serie) {
",
    "  # Paso 1: Clasificación de los valores de la serie como 'arriba' o 'abajo'
",
    "  medianaSerie <- median(serie)
",
    "  clasificacion <- ifelse(serie > medianaSerie, "A", "B")
",
    "  # Paso 2: Contamos las rachas
",
    "  rachas <- 1
",
    "  for (i in 2:length(clasificacion)) {
",
    "    if (clasificacion[i] != clasificacion[i - 1]) {
",
    "      rachas <- rachas + 1
",
    "    }
",
    "  }
",
    "  # Paso 3: Calculamos la media y la varianza esperada para el número de rachas
",
    "  n1 <- sum(clasificacion == "A")
",
    "  n2 <- sum(clasificacion == "B")
",
    "  mediaEsperada <- (2 * n1 * n2) / (n1 + n2) + 1
",
    "  varianzaEsperada <- (2 * n1 * n2 * (2 * n1 * n2 - n1 - n2)) / 
",
    "                      ((n1 + n2)^2 * (n1 + n2 - 1))
",
    "  # Paso 4: Calculamos el estadístico Z para la prueba
",
    "  desviacionEstandar <- sqrt(varianzaEsperada)
",
    "  z <- (rachas - mediaEsperada) / desviacionEstandar
",
    "  # Paso 5: Determinamos si rechazamos la hipótesis de aleatoriedad
",
    "  valorCritico <- 1.96
",
    "  rechazarHipotesis <- abs(z) > valorCritico
",
    "  # Paso 6: Resultado
",
    "  resultado <- list(
",
    "    clasificacion = clasificacion,
",
    "    rachas = rachas,
",
    "    mediaEsperada = mediaEsperada,
",
    "    varianzaEsperada = varianzaEsperada,
",
    "    estadisticoZ = z,
",
    "    rechazarHipotesis = rechazarHipotesis
",
    "  )
",
    "  return(resultado)
",
    "}
",
    "# Interfaz de consola
",
    "CatBienvenida <- function() {
",
    "  cat("\n==============================\n")
",
    "  cat("  Prueba de Rachas Interactiva\n")
",
    "  cat("==============================\n")
",
    "  cat("Introduce tu serie de números separados por comas (ej. 0.12, 0.45, 0.78):\n")
",
    "}
",
    "LeerSerie <- function() {
",
    "  serieTexto <- readline(prompt = "Ingresa los números: ")
",
    "  serieNumeros <- as.numeric(strsplit(serieTexto, ",")[[1]])
",
    "  if (any(is.na(serieNumeros))) {
",
    "    cat("\nError: Debes ingresar solo números válidos separados por comas.\n")
",
    "    return(NULL)
",
    "  }
",
    "  return(serieNumeros)
",
    "}
",
    "MostrarResultado <- function(resultado) {
",
    "  cat("\n==============================\n")
",
    "  cat("Resultados de la Prueba de Rachas:\n")
",
    "  cat("==============================\n")
",
    "  cat("Clasificación de la serie (A = arriba, B = abajo):\n")
",
    "  print(resultado$clasificacion)
",
    "  cat("\nNúmero total de rachas:\n")
",
    "  print(resultado$rachas)
",
    "  cat("\nMedia esperada de rachas:\n")
",
    "  print(resultado$mediaEsperada)
",
    "  cat("\nVarianza esperada de las rachas:\n")
",
    "  print(resultado$varianzaEsperada)
",
    "  cat("\nEstadístico Z de la prueba:\n")
",
    "  print(resultado$estadisticoZ)
",
    "  cat("\n¿Se rechaza la hipótesis de aleatoriedad?\n")
",
    "  if (resultado$rechazarHipotesis) {
",
    "    cat("Sí, se rechaza la hipótesis (la secuencia no es aleatoria).\n")
",
    "  } else {
",
    "    cat("No, no se rechaza la hipótesis (la secuencia es aleatoria).\n")
",
    "  }
",
    "}
",
    "# Función principal que coordina todo el flujo
",
    "PruebaDeRachasInteractiva <- function() {
",
    "  CatBienvenida()
",
    "  serie <- LeerSerie()
",
    "  if (!is.null(serie)) {
",
    "    resultado <- PruebaDeRachas(serie)
",
    "    MostrarResultado(resultado)
",
    "  }
",
    "}
",
    "# Ejemplo de cómo se ejecutaría el script
",
    "PruebaDeRachasInteractiva()
"
   ]
  }
 ],
 "metadata": {
  "kernelspec": {
   "display_name": "R",
   "language": "R",
   "name": "ir"
  },
  "language_info": {
   "codemirror_mode": {
    "name": "r"
   },
   "file_extension": ".r",
   "mimetype": "text/x-r-source",
   "name": "R",
   "nbconvert_exporter": "notebook"
  }
 },
 "nbformat": 4,
 "nbformat_minor": 5
}
